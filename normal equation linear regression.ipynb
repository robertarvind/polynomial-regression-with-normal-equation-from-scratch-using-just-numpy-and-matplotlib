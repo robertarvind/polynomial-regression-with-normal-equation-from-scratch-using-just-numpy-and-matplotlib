{
 "cells": [
  {
   "cell_type": "code",
   "execution_count": 2,
   "metadata": {},
   "outputs": [
    {
     "name": "stdout",
     "output_type": "stream",
     "text": [
      "[-3.45237794  1.10087207  0.00379118]\n"
     ]
    },
    {
     "data": {
      "text/plain": [
       "[<matplotlib.lines.Line2D at 0x7feb79df0b38>]"
      ]
     },
     "execution_count": 2,
     "metadata": {},
     "output_type": "execute_result"
    },
    {
     "data": {
      "image/png": "[encoded data removed]",
      "text/plain": [
       "<matplotlib.figure.Figure at 0x7feb79df0c18>"
      ]
     },
     "metadata": {},
     "output_type": "display_data"
    }
   ],
   "source": [
    "import numpy as np\n",
    "import math\n",
    "import matplotlib.pyplot as plt\n",
    "\n",
    "A = np.loadtxt(\"ex1data1.txt\", delimiter=\",\")\n",
    "\n",
    "X = A[:,0]\n",
    "Y = A[:,1]\n",
    "\n",
    "X = np.array(X)\n",
    "Y = np.array(Y)\n",
    "\n",
    "#X = np.array([0, 1, 2, 3, 4, 5, 6, 7, 8, 9])\n",
    "#Y = np.array([0, 1, 2, 3, 4, 5, 6, 7, 8, 9])\n",
    "#print(X**2)\n",
    "Xl = X**2\n",
    "Xll = Xl\n",
    "Xl = np.array([Xl])\n",
    "Xl = Xl.transpose()\n",
    "#print(Xl)\n",
    "\n",
    "#theta = np.array([0,0])\n",
    "\n",
    "#X = np.array([])\n",
    "\n",
    "plt.scatter(X,Y)\n",
    "Xo = X\n",
    "#print(X.shape)\n",
    "y = X\n",
    "X_bias = np.ones((len(X),1))\n",
    "#print(X_bias)\n",
    "X = np.reshape(X, (len(X),1))\n",
    "#print(X)\n",
    "X = np.append(X_bias,X,axis=1)\n",
    "#print(X)\n",
    "X = np.append(X, Xl, axis = 1)\n",
    "#Y = np.array([5, 20, 14, 32, 22, 38])\n",
    "Yo = Y\n",
    "#X1 = np.array([X])\n",
    "#Y1 = np.array([Y])\n",
    "#plt.scatter(X,Y)\n",
    "XT = np.array(X)\n",
    "XT = XT.transpose()\n",
    "temp0 = np.dot(XT,X)\n",
    "#print(temp0)\n",
    "temp0inv = np.linalg.inv(temp0)\n",
    "temp1 = np.dot(XT,Y)\n",
    "theta = np.dot(temp0inv,temp1)\n",
    "#print(XT.transpose())\n",
    "#print(temp1)\n",
    "print(theta)\n",
    "\n",
    "#for i in range(0,len(Xo)):\n",
    "    \n",
    "    #y[i] = ((Xo[i])*(theta[1])) + (theta[0])\n",
    "    \n",
    "y = theta[0] + Xo*theta[1] + Xll*theta[2]\n",
    "    \n",
    "#plt.plot(Xo,y,'r')\n",
    "plt.plot(Xo,y,'r')\n",
    "#plt.plot(Xo,y,'r')\n",
    "#plt.scatter(X,Y)\n",
    "\n",
    "#slope, intercept = np.polyfit(Xo, y, 1)\n",
    "#plt.plot(X, X*slope + intercept, 'r')\n",
    "#plt.plot(X)"
   ]
  },
  {
   "cell_type": "code",
   "execution_count": null,
   "metadata": {},
   "outputs": [],
   "source": []
  },
  {
   "cell_type": "code",
   "execution_count": null,
   "metadata": {},
   "outputs": [],
   "source": []
  }
 ],
 "metadata": {
  "kernelspec": {
   "display_name": "Python 3",
   "language": "python",
   "name": "python3"
  },
  "language_info": {
   "codemirror_mode": {
    "name": "ipython",
    "version": 3
   },
   "file_extension": ".py",
   "mimetype": "text/x-python",
   "name": "python",
   "nbconvert_exporter": "python",
   "pygments_lexer": "ipython3",
   "version": "3.6.9"
  }
 },
 "nbformat": 4,
 "nbformat_minor": 2
}
