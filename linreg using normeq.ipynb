{
 "cells": [
  {
   "cell_type": "code",
   "execution_count": 11,
   "metadata": {},
   "outputs": [
    {
     "name": "stdout",
     "output_type": "stream",
     "text": [
      "[[  1.   0.   0.   0.]\n",
      " [  1.   1.   1.   1.]\n",
      " [  1.   2.   4.   8.]\n",
      " [  1.   3.   9.  27.]\n",
      " [  1.   4.  16.  64.]\n",
      " [  1.   5.  25. 125.]]\n",
      "[ 2.27373675e-13  1.00000000e+00 -8.52651283e-14  1.06581410e-14]\n"
     ]
    },
    {
     "data": {
      "text/plain": [
       "[<matplotlib.lines.Line2D at 0x7f03269e3a20>]"
      ]
     },
     "execution_count": 11,
     "metadata": {},
     "output_type": "execute_result"
    },
    {
     "data": {
      "image/png": "[encoded data removed]",
      "text/plain": [
       "<matplotlib.figure.Figure at 0x7f03269e3240>"
      ]
     },
     "metadata": {},
     "output_type": "display_data"
    }
   ],
   "source": [
    "import numpy as np\n",
    "import matplotlib.pyplot as plt\n",
    "\n",
    "X = np.array([0, 1, 2, 3, 4, 5])\n",
    "Y = np.array([0, 1, 2, 3, 4, 5])\n",
    "Xl = X**2\n",
    "Xl1 = X**3\n",
    "Xll = Xl\n",
    "Xll1 = Xl1\n",
    "Xl = np.array([Xl])\n",
    "Xl1 = np.array([Xl1])\n",
    "Xl = Xl.transpose()\n",
    "Xl1 = Xl1.transpose()\n",
    "plt.scatter(X,Y)\n",
    "Xo = X\n",
    "y = X\n",
    "X_bias = np.ones((len(X),1))\n",
    "X = np.reshape(X, (len(X),1))\n",
    "X = np.append(X_bias,X,axis=1)\n",
    "X = np.append(X, Xl, axis = 1)\n",
    "X = np.append(X, Xl1, axis = 1)\n",
    "print(X)\n",
    "Yo = Y\n",
    "XT = np.array(X)\n",
    "XT = XT.transpose()\n",
    "temp0 = np.dot(XT,X)\n",
    "temp0inv = np.linalg.inv(temp0)\n",
    "temp1 = np.dot(XT,Y)\n",
    "theta = np.dot(temp0inv,temp1)\n",
    "print(theta)\n",
    "y = theta[0] + Xo*theta[1] + Xll*theta[2] + Xll1*theta[3]\n",
    "plt.plot(Xo,y,'r')\n"
   ]
  },
  {
   "cell_type": "code",
   "execution_count": null,
   "metadata": {},
   "outputs": [],
   "source": []
  }
 ],
 "metadata": {
  "kernelspec": {
   "display_name": "Python 3",
   "language": "python",
   "name": "python3"
  },
  "language_info": {
   "codemirror_mode": {
    "name": "ipython",
    "version": 3
   },
   "file_extension": ".py",
   "mimetype": "text/x-python",
   "name": "python",
   "nbconvert_exporter": "python",
   "pygments_lexer": "ipython3",
   "version": "3.6.9"
  }
 },
 "nbformat": 4,
 "nbformat_minor": 2
}
